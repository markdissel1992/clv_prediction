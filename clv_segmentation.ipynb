{
 "cells": [
  {
   "cell_type": "code",
   "execution_count": 49,
   "outputs": [
    {
     "name": "stdout",
     "output_type": "stream",
     "text": [
      "Using data from 304 days\n",
      "To predict 170 days\n",
      "Using data from 161 days\n",
      "To predict 111 days\n",
      "\n",
      "Epoch: 0, loss:81005672.0000,  mae:2581.5256,  mse:81005672.0000,  val_loss:1652752.2500,  val_mae:735.7847,  val_mse:1652752.2500,  \n",
      "..................................................\n",
      "\n",
      "Total Sales Actual: 58535.0\n",
      "Total Sales Predicted: 55964.0\n",
      "Individual R2 score: 0.48927404071714764 \n",
      "Individual Mean Absolute Error: 838.2897649358935\n"
     ]
    },
    {
     "data": {
      "text/plain": "<Figure size 432x288 with 1 Axes>",
      "image/png": "[encoded data removed]"
     },
     "metadata": {
      "needs_background": "light"
     },
     "output_type": "display_data"
    }
   ],
   "source": [
    "import pandas as pd\n",
    "import numpy as np\n",
    "from datetime import datetime\n",
    "\n",
    "import psycopg2 as pg\n",
    "import pandas.io.sql as psql\n",
    "\n",
    "import tensorflow as tf\n",
    "from tensorflow import keras\n",
    "from tensorflow.keras import layers\n",
    "import tensorflow_docs as tfdocs\n",
    "import tensorflow_docs.modeling\n",
    "\n",
    "from sklearn.metrics import r2_score\n",
    "from sklearn.metrics import mean_absolute_error\n",
    "\n",
    "import matplotlib.pyplot as plt\n",
    "\n",
    "connection = pg.connect(\"host=localhost dbname=order_data user=postgres password=gmuonline123\")\n",
    "sql = \"SELECT i.store_data_order_id AS InvoiceNo, sum(i.quantity_shipped) AS quantity, i.created_at AS InvoiceDate, sum(i.price_excl) as UnitPrice, sum(i.cost_price_excl) as CostPrice, o.external_customer_number AS CustomerID FROM store_data_order_items i INNER JOIN store_data_orders o ON o.store_data_order_id = i.store_data_order_id group by o.external_customer_number, i.created_at, i.store_data_order_id having o.external_customer_number is not null AND sum(i.price_excl) > 0 AND sum(i.cost_price_excl) > 0 AND sum(i.quantity_shipped) > 0 AND i.store_data_order_id is not null\"\n",
    "data = psql.read_sql(sql, connection)\n",
    "data['invoicedate'] = pd.to_datetime(data.invoicedate, format = '%d/%m/%Y %H:%M')\n",
    "data['date'] = pd.to_datetime(data.invoicedate.dt.date)\n",
    "data['time'] = data.invoicedate.dt.time\n",
    "data['hour'] = data['time'].apply(lambda x: x.hour)\n",
    "data['weekend'] = data['date'].apply(lambda x: x.weekday() in [5, 6])\n",
    "data['dayofweek'] = data['date'].apply(lambda x: x.dayofweek)\n",
    "data['revenue'] = data['quantity'] * data['unitprice']\n",
    "def get_features(data, feature_start, feature_end, target_start, target_end):\n",
    "    \"\"\"\n",
    "    Function that outputs the features and targets on the user-level.\n",
    "    Inputs:\n",
    "        * data - a dataframe with raw data\n",
    "        * feature_start - a string start date of feature period\n",
    "        * feature_end - a  string end date of feature period\n",
    "        * target_start - a  string start date of target period\n",
    "        * target_end - a  string end date of target period\n",
    "    \"\"\"\n",
    "    features_data = data.loc[(data.date >= feature_start) & (data.date <= feature_end), :]\n",
    "    print(f'Using data from {(pd.to_datetime(feature_end) - pd.to_datetime(feature_start)).days} days')\n",
    "    print(f'To predict {(pd.to_datetime(target_end) - pd.to_datetime(target_start)).days} days')\n",
    "\n",
    "    total_rev = features_data.groupby('customerid')['revenue'].sum().rename('total_revenue')\n",
    "    recency = (features_data.groupby('customerid')['date'].max() - features_data.groupby('customerid')['date'].min()).apply(lambda x: x.days).rename('recency')\n",
    "    frequency = features_data.groupby('customerid')['invoiceno'].count().rename('frequency')\n",
    "    t = features_data.groupby('customerid')['date'].min().apply(lambda x: (datetime(2019, 11, 1) - x).days).rename('t')\n",
    "    time_between = (t / frequency).rename('time_between')\n",
    "    avg_basket_value = (total_rev / frequency).rename('avg_basket_value')\n",
    "    avg_basket_size = (features_data.groupby('customerid')['quantity'].sum() / frequency).rename('avg_basket_Size')\n",
    "    hour = features_data.groupby('customerid')['hour'].median().rename('purchase_hour_med')\n",
    "    dow = features_data.groupby('customerid')['dayofweek'].median().rename('purchase_dow_med')\n",
    "    weekend =  features_data.groupby('customerid')['weekend'].mean().rename('purchase_weekend_prop')\n",
    "    train_data = pd.DataFrame(index = data.index)\n",
    "    train_data = train_data.join([total_rev, recency, frequency, t, time_between, avg_basket_value, avg_basket_size, hour, dow, weekend], how = 'inner')\n",
    "    train_data = train_data.fillna(0)\n",
    "    target_data = data.loc[(data.date >= target_start) & (data.date <= target_end), :]\n",
    "    target_rev = target_data.groupby(['customerid'])['revenue'].sum().rename('target_rev')\n",
    "    train_data = train_data.join(target_rev, how='inner').fillna(0)\n",
    "    return train_data.iloc[:, :-1], train_data.iloc[:, -1] #X and Y\n",
    "\n",
    "X_train, y_train = get_features(data, '2019-01-01', '2019-11-01', '2019-11-02', '2020-04-20')\n",
    "X_test, y_test = get_features(data, '2019-04-02', '2019-09-10', '2019-09-11', '2019-12-31')\n",
    "def build_model():\n",
    "    model = keras.Sequential([\n",
    "    layers.Dense(256, activation='relu', input_shape=[len(X_train.columns), ]),\n",
    "    layers.Dropout(0.3),\n",
    "    layers.Dense(64, activation='relu'),\n",
    "    layers.Dropout(0.3),\n",
    "    layers.Dense(32, activation='relu'),\n",
    "    layers.Dense(1)\n",
    "    ])\n",
    "\n",
    "    optimizer = tf.keras.optimizers.Adam(0.001)\n",
    "\n",
    "    model.compile(loss='mse',\n",
    "            optimizer=optimizer,\n",
    "            metrics=['mae', 'mse'])\n",
    "\n",
    "    return model\n",
    "\n",
    "early_stop = keras.callbacks.EarlyStopping(monitor='val_mse', patience=50)\n",
    "\n",
    "model = build_model()\n",
    "early_history = model.fit(X_train, y_train,\n",
    "                    epochs=50, validation_split = 0.2, verbose=0,\n",
    "                    callbacks=[early_stop, tfdocs.modeling.EpochDots()])\n",
    "\n",
    "def evaluate(actual, sales_prediction):\n",
    "    print(\"\\n\")\n",
    "    print(f\"Total Sales Actual: {np.round(actual.sum())}\")\n",
    "    print(f\"Total Sales Predicted: {np.round(sales_prediction.sum())}\")\n",
    "    print(f\"Individual R2 score: {r2_score(actual, sales_prediction)} \")\n",
    "    print(f\"Individual Mean Absolute Error: {mean_absolute_error(actual, sales_prediction)}\")\n",
    "    plt.scatter(sales_prediction, actual)\n",
    "    plt.xlabel('Prediction')\n",
    "    plt.ylabel('Actual')\n",
    "    plt.show()\n",
    "\n",
    "dnn_preds = model.predict(X_test).ravel()\n",
    "evaluate(y_test, dnn_preds)\n"
   ],
   "metadata": {
    "collapsed": false,
    "pycharm": {
     "name": "#%%\n"
    }
   }
  }
 ],
 "metadata": {
  "kernelspec": {
   "display_name": "Python 3",
   "language": "python",
   "name": "python3"
  },
  "language_info": {
   "codemirror_mode": {
    "name": "ipython",
    "version": 2
   },
   "file_extension": ".py",
   "mimetype": "text/x-python",
   "name": "python",
   "nbconvert_exporter": "python",
   "pygments_lexer": "ipython2",
   "version": "2.7.6"
  }
 },
 "nbformat": 4,
 "nbformat_minor": 0
}
